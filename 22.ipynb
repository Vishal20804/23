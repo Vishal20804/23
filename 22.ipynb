{
 "cells": [
  {
   "cell_type": "markdown",
   "id": "9d74e233-dd09-4226-aae7-bd8bdd9531d7",
   "metadata": {},
   "source": [
    "## "
   ]
  },
  {
   "cell_type": "code",
   "execution_count": null,
   "id": "ccf82f77-5a37-41d8-81e7-40b53a1a074a",
   "metadata": {},
   "outputs": [],
   "source": [
    "#ans:1\n",
    "Yes, there is a difference in the data type of the variables list_ and array_list. The variable list_ is a Python list, whereas array_list is a NumPy array.\n",
    "import numpy as np\n",
    "\n",
    "list_ = ['1', '2', '3', '4', '5']\n",
    "array_list = np.array(object=list_)\n",
    "\n",
    "print(type(list_))\n",
    "print(type(array_list))\n"
   ]
  },
  {
   "cell_type": "code",
   "execution_count": null,
   "id": "ca4b09d7-3889-49d5-a113-e471d6502202",
   "metadata": {},
   "outputs": [],
   "source": [
    "#ans:2\n",
    "import numpy as np\n",
    "\n",
    "list_ = ['1', '2', '3', '4', '5']\n",
    "array_list = np.array(object=list_)\n",
    "\n",
    "# Print data type of each element in list_\n",
    "print(\"Data type of elements in list_:\")\n",
    "for element in list_:\n",
    "    print(type(element))\n",
    "\n",
    "print()  # Empty line for separation\n",
    "\n",
    "# Print data type of each element in array_list\n",
    "print(\"Data type of elements in array_list:\")\n",
    "for element in array_list:\n",
    "    print(type(element))\n"
   ]
  },
  {
   "cell_type": "code",
   "execution_count": 1,
   "id": "9c06e0e1-c272-462c-85c8-3de72d3b6038",
   "metadata": {},
   "outputs": [],
   "source": [
    "#ans:3\n",
    "Yes, there will be a difference in the data type of the elements present in both the variables list_ and array_list after the changes. By specifying dtype=int when creating the NumPy array, the elements in array_list will be converted to integers.\n",
    "import numpy as np\n",
    "\n",
    "list_ = ['1', '2', '3', '4', '5']\n",
    "array_list = np.array(object=list_, dtype=int)\n",
    "\n",
    "# Print data type of each element in list_\n",
    "print(\"Data type of elements in list_:\")\n",
    "for element in list_:\n",
    "    print(type(element))\n",
    "\n",
    "print()  # Empty line for separation\n",
    "\n",
    "# Print data type of each element in array_list\n",
    "print(\"Data type of elements in array_list:\")\n",
    "for element in array_list:\n",
    "    print(type(element))\n"
   ]
  },
  {
   "cell_type": "code",
   "execution_count": null,
   "id": "5e6dbd60-2cae-4266-beb7-e5a0cd8b7ec4",
   "metadata": {},
   "outputs": [],
   "source": [
    "#ans:4\n",
    "import numpy as np\n",
    "\n",
    "num_list = [[1, 2, 3], [4, 5, 6]]\n",
    "num_array = np.array(object=num_list)\n",
    "\n",
    "# Find the shape of num_array\n",
    "shape = num_array.shape\n",
    "\n",
    "# Find the size of num_array\n",
    "size = num_array.size\n",
    "\n",
    "# Print the characteristics\n",
    "print(\"Shape of num_array:\", shape)\n",
    "print(\"Size of num_array:\", size)\n"
   ]
  },
  {
   "cell_type": "code",
   "execution_count": null,
   "id": "52e85e08-7498-4cb7-b906-ae9433e0f366",
   "metadata": {},
   "outputs": [],
   "source": [
    "#ans:5\n",
    "import numpy as np\n",
    "\n",
    "zeros_array = np.zeros((3, 3))\n",
    "\n",
    "print(zeros_array)\n"
   ]
  },
  {
   "cell_type": "code",
   "execution_count": null,
   "id": "9bf2d557-195d-4f58-ada9-1f8778cb9944",
   "metadata": {},
   "outputs": [],
   "source": [
    "#ans:6\n",
    "import numpy as np\n",
    "\n",
    "identity_matrix = np.eye(5)\n",
    "\n",
    "print(identity_matrix)\n"
   ]
  }
 ],
 "metadata": {
  "kernelspec": {
   "display_name": "Python 3 (ipykernel)",
   "language": "python",
   "name": "python3"
  },
  "language_info": {
   "codemirror_mode": {
    "name": "ipython",
    "version": 3
   },
   "file_extension": ".py",
   "mimetype": "text/x-python",
   "name": "python",
   "nbconvert_exporter": "python",
   "pygments_lexer": "ipython3",
   "version": "3.10.8"
  }
 },
 "nbformat": 4,
 "nbformat_minor": 5
}
